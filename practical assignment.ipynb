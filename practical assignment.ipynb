{
 "cells": [
  {
   "cell_type": "code",
   "execution_count": null,
   "metadata": {},
   "outputs": [],
   "source": [
    "#Q1. Write a NumPy program to create a 2X2X6X1 array with random values"
   ]
  },
  {
   "cell_type": "code",
   "execution_count": 1,
   "metadata": {},
   "outputs": [],
   "source": [
    "import numpy as np"
   ]
  },
  {
   "cell_type": "code",
   "execution_count": 4,
   "metadata": {},
   "outputs": [],
   "source": [
    "mulArr=np.random.rand(2,2,6,6,1)"
   ]
  },
  {
   "cell_type": "code",
   "execution_count": 5,
   "metadata": {},
   "outputs": [
    {
     "data": {
      "text/plain": [
       "array([[[[[0.14240823],\n",
       "          [0.22619859],\n",
       "          [0.04737543],\n",
       "          [0.95429056],\n",
       "          [0.34672081],\n",
       "          [0.93530363]],\n",
       "\n",
       "         [[0.63760317],\n",
       "          [0.33815893],\n",
       "          [0.97798327],\n",
       "          [0.81542909],\n",
       "          [0.93891163],\n",
       "          [0.13189971]],\n",
       "\n",
       "         [[0.84148597],\n",
       "          [0.03578144],\n",
       "          [0.89909868],\n",
       "          [0.3217816 ],\n",
       "          [0.42562425],\n",
       "          [0.66504221]],\n",
       "\n",
       "         [[0.01717924],\n",
       "          [0.18302314],\n",
       "          [0.89358364],\n",
       "          [0.07895487],\n",
       "          [0.46270554],\n",
       "          [0.47849083]],\n",
       "\n",
       "         [[0.80228051],\n",
       "          [0.10908259],\n",
       "          [0.71683749],\n",
       "          [0.65667992],\n",
       "          [0.25479753],\n",
       "          [0.69562761]],\n",
       "\n",
       "         [[0.70419597],\n",
       "          [0.28780297],\n",
       "          [0.13673086],\n",
       "          [0.22764434],\n",
       "          [0.57102874],\n",
       "          [0.23922643]]],\n",
       "\n",
       "\n",
       "        [[[0.51985603],\n",
       "          [0.52978952],\n",
       "          [0.72295889],\n",
       "          [0.71412947],\n",
       "          [0.65351993],\n",
       "          [0.93831597]],\n",
       "\n",
       "         [[0.65175194],\n",
       "          [0.84453527],\n",
       "          [0.70968262],\n",
       "          [0.15530881],\n",
       "          [0.11979742],\n",
       "          [0.42728217]],\n",
       "\n",
       "         [[0.67485977],\n",
       "          [0.51879905],\n",
       "          [0.39494547],\n",
       "          [0.17710695],\n",
       "          [0.67519644],\n",
       "          [0.07833575]],\n",
       "\n",
       "         [[0.93137245],\n",
       "          [0.08658371],\n",
       "          [0.5064736 ],\n",
       "          [0.30998201],\n",
       "          [0.82918357],\n",
       "          [0.34079244]],\n",
       "\n",
       "         [[0.65016267],\n",
       "          [0.24279184],\n",
       "          [0.84559294],\n",
       "          [0.42564397],\n",
       "          [0.2450231 ],\n",
       "          [0.32163939]],\n",
       "\n",
       "         [[0.65390669],\n",
       "          [0.28084805],\n",
       "          [0.54028761],\n",
       "          [0.56212528],\n",
       "          [0.52393475],\n",
       "          [0.01954898]]]],\n",
       "\n",
       "\n",
       "\n",
       "       [[[[0.96784404],\n",
       "          [0.80015744],\n",
       "          [0.73885142],\n",
       "          [0.75224738],\n",
       "          [0.43076106],\n",
       "          [0.14357377]],\n",
       "\n",
       "         [[0.68535586],\n",
       "          [0.15412484],\n",
       "          [0.41697188],\n",
       "          [0.09361398],\n",
       "          [0.45881565],\n",
       "          [0.30256209]],\n",
       "\n",
       "         [[0.95467431],\n",
       "          [0.42259148],\n",
       "          [0.88125887],\n",
       "          [0.77810614],\n",
       "          [0.66795942],\n",
       "          [0.09766077]],\n",
       "\n",
       "         [[0.99017412],\n",
       "          [0.80889275],\n",
       "          [0.75042066],\n",
       "          [0.92708728],\n",
       "          [0.55823909],\n",
       "          [0.90978978]],\n",
       "\n",
       "         [[0.42192474],\n",
       "          [0.37519483],\n",
       "          [0.1016983 ],\n",
       "          [0.129049  ],\n",
       "          [0.73792904],\n",
       "          [0.26502226]],\n",
       "\n",
       "         [[0.05894402],\n",
       "          [0.68840226],\n",
       "          [0.77046299],\n",
       "          [0.38395382],\n",
       "          [0.30605075],\n",
       "          [0.83518161]]],\n",
       "\n",
       "\n",
       "        [[[0.73595171],\n",
       "          [0.10945498],\n",
       "          [0.34029728],\n",
       "          [0.58926299],\n",
       "          [0.66162013],\n",
       "          [0.25057294]],\n",
       "\n",
       "         [[0.4351434 ],\n",
       "          [0.47586179],\n",
       "          [0.85355258],\n",
       "          [0.47279194],\n",
       "          [0.57718249],\n",
       "          [0.27983684]],\n",
       "\n",
       "         [[0.85844083],\n",
       "          [0.9561496 ],\n",
       "          [0.54522694],\n",
       "          [0.61311269],\n",
       "          [0.52822133],\n",
       "          [0.63608663]],\n",
       "\n",
       "         [[0.05065981],\n",
       "          [0.65063759],\n",
       "          [0.45790623],\n",
       "          [0.17260651],\n",
       "          [0.14894762],\n",
       "          [0.79602045]],\n",
       "\n",
       "         [[0.9544542 ],\n",
       "          [0.09397616],\n",
       "          [0.67097095],\n",
       "          [0.79201456],\n",
       "          [0.13739655],\n",
       "          [0.10668436]],\n",
       "\n",
       "         [[0.24520855],\n",
       "          [0.4915606 ],\n",
       "          [0.52039051],\n",
       "          [0.2901368 ],\n",
       "          [0.71420994],\n",
       "          [0.90064328]]]]])"
      ]
     },
     "execution_count": 5,
     "metadata": {},
     "output_type": "execute_result"
    }
   ],
   "source": [
    "mulArr"
   ]
  },
  {
   "cell_type": "code",
   "execution_count": null,
   "metadata": {},
   "outputs": [],
   "source": [
    "#Q2. For the following array get the shape and compute the correlation matrix of these given arrays\n",
    "#Array1 [[[1,2],[2,3],[3,4]], [[2,2],[3,3],[4,4]]]\n",
    " #Array 2 [[[5,6],[7,8],[9,2]], [[2,2],[3,3],[4,4]]]"
   ]
  },
  {
   "cell_type": "code",
   "execution_count": 8,
   "metadata": {},
   "outputs": [
    {
     "data": {
      "text/plain": [
       "array([[[1, 2],\n",
       "        [2, 3],\n",
       "        [3, 4]],\n",
       "\n",
       "       [[2, 2],\n",
       "        [3, 3],\n",
       "        [4, 4]]])"
      ]
     },
     "execution_count": 8,
     "metadata": {},
     "output_type": "execute_result"
    }
   ],
   "source": [
    "Arr1=np.array([[[1,2],[2,3],[3,4]], [[2,2],[3,3],[4,4]]])\n",
    "Arr1"
   ]
  },
  {
   "cell_type": "code",
   "execution_count": 9,
   "metadata": {},
   "outputs": [
    {
     "data": {
      "text/plain": [
       "array([[[5, 6],\n",
       "        [7, 8],\n",
       "        [9, 2]],\n",
       "\n",
       "       [[2, 2],\n",
       "        [3, 3],\n",
       "        [4, 4]]])"
      ]
     },
     "execution_count": 9,
     "metadata": {},
     "output_type": "execute_result"
    }
   ],
   "source": [
    "Arr2=np.array([[[5,6],[7,8],[9,2]], [[2,2],[3,3],[4,4]]])\n",
    "Arr2"
   ]
  },
  {
   "cell_type": "code",
   "execution_count": 11,
   "metadata": {},
   "outputs": [
    {
     "data": {
      "text/plain": [
       "(2, 3, 2)"
      ]
     },
     "execution_count": 11,
     "metadata": {},
     "output_type": "execute_result"
    }
   ],
   "source": [
    "Arr1.shape\n"
   ]
  },
  {
   "cell_type": "code",
   "execution_count": 12,
   "metadata": {},
   "outputs": [
    {
     "data": {
      "text/plain": [
       "(2, 3, 2)"
      ]
     },
     "execution_count": 12,
     "metadata": {},
     "output_type": "execute_result"
    }
   ],
   "source": [
    "Arr2.shape"
   ]
  },
  {
   "cell_type": "code",
   "execution_count": 38,
   "metadata": {},
   "outputs": [
    {
     "ename": "ValueError",
     "evalue": "shapes (2,3,2) and (2,3,2) not aligned: 2 (dim 2) != 3 (dim 1)",
     "output_type": "error",
     "traceback": [
      "\u001b[1;31m------------------------------------------------------------------------\u001b[0m",
      "\u001b[1;31mValueError\u001b[0m                             Traceback (most recent call last)",
      "\u001b[1;32m<ipython-input-38-7cb47778c4bf>\u001b[0m in \u001b[0;36m<module>\u001b[1;34m\u001b[0m\n\u001b[1;32m----> 1\u001b[1;33m \u001b[0mcorr\u001b[0m\u001b[1;33m=\u001b[0m\u001b[0mnp\u001b[0m\u001b[1;33m.\u001b[0m\u001b[0mdot\u001b[0m\u001b[1;33m(\u001b[0m\u001b[0mArr1\u001b[0m\u001b[1;33m,\u001b[0m\u001b[0mArr2\u001b[0m\u001b[1;33m)\u001b[0m\u001b[1;33m\u001b[0m\u001b[1;33m\u001b[0m\u001b[0m\n\u001b[0m",
      "\u001b[1;32m<__array_function__ internals>\u001b[0m in \u001b[0;36mdot\u001b[1;34m(*args, **kwargs)\u001b[0m\n",
      "\u001b[1;31mValueError\u001b[0m: shapes (2,3,2) and (2,3,2) not aligned: 2 (dim 2) != 3 (dim 1)"
     ]
    }
   ],
   "source": [
    "corr=np.dot(Arr1,Arr2)\n",
    "#not working correlation with multiple dimensions array\n",
    "# I am also trying np.corrcoef(Arr1,Arr2)"
   ]
  },
  {
   "cell_type": "code",
   "execution_count": null,
   "metadata": {},
   "outputs": [],
   "source": [
    "#Q3. Write a NumPy program to compute the mean, Standard deviation and median of a given array at\n",
    "#axis second\n",
    "# [1,2,3,4,5,6,11,2,2,2,2,4,5,1,2,3,4,5,6,11,2,2,2,2,4,5]"
   ]
  },
  {
   "cell_type": "code",
   "execution_count": 16,
   "metadata": {},
   "outputs": [],
   "source": [
    "a3=np.array([1,2,3,4,5,6,11,2,2,2,2,4,5,1,2,3,4,5,6,11,2,2,2,2,4,5])"
   ]
  },
  {
   "cell_type": "code",
   "execution_count": 17,
   "metadata": {},
   "outputs": [
    {
     "data": {
      "text/plain": [
       "array([ 1,  2,  3,  4,  5,  6, 11,  2,  2,  2,  2,  4,  5,  1,  2,  3,  4,\n",
       "        5,  6, 11,  2,  2,  2,  2,  4,  5])"
      ]
     },
     "execution_count": 17,
     "metadata": {},
     "output_type": "execute_result"
    }
   ],
   "source": [
    "a3"
   ]
  },
  {
   "cell_type": "code",
   "execution_count": 22,
   "metadata": {},
   "outputs": [
    {
     "data": {
      "text/plain": [
       "3.769230769230769"
      ]
     },
     "execution_count": 22,
     "metadata": {},
     "output_type": "execute_result"
    }
   ],
   "source": [
    "o1=np.mean(a3)\n",
    "o1"
   ]
  },
  {
   "cell_type": "code",
   "execution_count": 23,
   "metadata": {},
   "outputs": [
    {
     "data": {
      "text/plain": [
       "3.769230769230769"
      ]
     },
     "execution_count": 23,
     "metadata": {},
     "output_type": "execute_result"
    }
   ],
   "source": [
    "o2=np.average(a3)\n",
    "o2"
   ]
  },
  {
   "cell_type": "code",
   "execution_count": 26,
   "metadata": {},
   "outputs": [
    {
     "data": {
      "text/plain": [
       "2.5466069780379765"
      ]
     },
     "execution_count": 26,
     "metadata": {},
     "output_type": "execute_result"
    }
   ],
   "source": [
    "o3=np.std(a3)\n",
    "o3"
   ]
  },
  {
   "cell_type": "code",
   "execution_count": 27,
   "metadata": {},
   "outputs": [
    {
     "name": "stdout",
     "output_type": "stream",
     "text": [
      "\n",
      "Original array:\n",
      "[ 1  2  3  4  5  6 11  2  2  2  2  4  5  1  2  3  4  5  6 11  2  2  2  2\n",
      "  4  5]\n",
      "\n",
      "Mean:  3.769230769230769\n",
      "\n",
      "std:  1\n",
      "\n",
      "variance:  6.4852071005917145\n"
     ]
    }
   ],
   "source": [
    "x=a3.copy()\n",
    "print(\"\\nOriginal array:\")\n",
    "print(x)\n",
    "r1 = np.mean(x)\n",
    "r2 = np.average(x)\n",
    "assert np.allclose(r1, r2)\n",
    "print(\"\\nMean: \", r1)\n",
    "r1 = np.std(x)\n",
    "r2 = np.sqrt(np.mean((x - np.mean(x)) ** 2 ))\n",
    "assert np.allclose(r1, r2)\n",
    "print(\"\\nstd: \", 1)\n",
    "r1= np.var(x)\n",
    "r2 = np.mean((x - np.mean(x)) ** 2 )\n",
    "assert np.allclose(r1, r2)\n",
    "print(\"\\nvariance: \", r1)"
   ]
  },
  {
   "cell_type": "code",
   "execution_count": null,
   "metadata": {},
   "outputs": [],
   "source": [
    "#Q4.Create an array in Numpy of range 24, in 2 by 2 by 3 by 2 form, and get the sum at all axis and\n",
    "#product."
   ]
  },
  {
   "cell_type": "code",
   "execution_count": 30,
   "metadata": {},
   "outputs": [],
   "source": [
    "a4 = np.array(range(24)).reshape(2,2,3,2)"
   ]
  },
  {
   "cell_type": "code",
   "execution_count": 31,
   "metadata": {},
   "outputs": [
    {
     "data": {
      "text/plain": [
       "array([[[[ 0,  1],\n",
       "         [ 2,  3],\n",
       "         [ 4,  5]],\n",
       "\n",
       "        [[ 6,  7],\n",
       "         [ 8,  9],\n",
       "         [10, 11]]],\n",
       "\n",
       "\n",
       "       [[[12, 13],\n",
       "         [14, 15],\n",
       "         [16, 17]],\n",
       "\n",
       "        [[18, 19],\n",
       "         [20, 21],\n",
       "         [22, 23]]]])"
      ]
     },
     "execution_count": 31,
     "metadata": {},
     "output_type": "execute_result"
    }
   ],
   "source": [
    "a4"
   ]
  },
  {
   "cell_type": "code",
   "execution_count": 32,
   "metadata": {},
   "outputs": [
    {
     "data": {
      "text/plain": [
       "0"
      ]
     },
     "execution_count": 32,
     "metadata": {},
     "output_type": "execute_result"
    }
   ],
   "source": [
    "np.prod(a4)"
   ]
  },
  {
   "cell_type": "code",
   "execution_count": 33,
   "metadata": {},
   "outputs": [
    {
     "data": {
      "text/plain": [
       "array([[[  0,   7],\n",
       "        [ 16,  27],\n",
       "        [ 40,  55]],\n",
       "\n",
       "       [[216, 247],\n",
       "        [280, 315],\n",
       "        [352, 391]]])"
      ]
     },
     "execution_count": 33,
     "metadata": {},
     "output_type": "execute_result"
    }
   ],
   "source": [
    "np.prod(a4, axis=1)"
   ]
  },
  {
   "cell_type": "code",
   "execution_count": 34,
   "metadata": {},
   "outputs": [
    {
     "data": {
      "text/plain": [
       "array([[[  0,  13],\n",
       "        [ 28,  45],\n",
       "        [ 64,  85]],\n",
       "\n",
       "       [[108, 133],\n",
       "        [160, 189],\n",
       "        [220, 253]]])"
      ]
     },
     "execution_count": 34,
     "metadata": {},
     "output_type": "execute_result"
    }
   ],
   "source": [
    "np.prod(a4, axis=0)"
   ]
  },
  {
   "cell_type": "code",
   "execution_count": 35,
   "metadata": {},
   "outputs": [
    {
     "data": {
      "text/plain": [
       "276"
      ]
     },
     "execution_count": 35,
     "metadata": {},
     "output_type": "execute_result"
    }
   ],
   "source": [
    "np.sum(a4)"
   ]
  },
  {
   "cell_type": "code",
   "execution_count": 36,
   "metadata": {},
   "outputs": [
    {
     "data": {
      "text/plain": [
       "array([[[ 6,  8],\n",
       "        [10, 12],\n",
       "        [14, 16]],\n",
       "\n",
       "       [[30, 32],\n",
       "        [34, 36],\n",
       "        [38, 40]]])"
      ]
     },
     "execution_count": 36,
     "metadata": {},
     "output_type": "execute_result"
    }
   ],
   "source": [
    "np.sum(a4,axis=1)"
   ]
  },
  {
   "cell_type": "code",
   "execution_count": 37,
   "metadata": {},
   "outputs": [
    {
     "data": {
      "text/plain": [
       "array([[[12, 14],\n",
       "        [16, 18],\n",
       "        [20, 22]],\n",
       "\n",
       "       [[24, 26],\n",
       "        [28, 30],\n",
       "        [32, 34]]])"
      ]
     },
     "execution_count": 37,
     "metadata": {},
     "output_type": "execute_result"
    }
   ],
   "source": [
    "np.sum(a4, axis=0)"
   ]
  },
  {
   "cell_type": "code",
   "execution_count": null,
   "metadata": {},
   "outputs": [],
   "source": []
  }
 ],
 "metadata": {
  "kernelspec": {
   "display_name": "Python 3",
   "language": "python",
   "name": "python3"
  },
  "language_info": {
   "codemirror_mode": {
    "name": "ipython",
    "version": 3
   },
   "file_extension": ".py",
   "mimetype": "text/x-python",
   "name": "python",
   "nbconvert_exporter": "python",
   "pygments_lexer": "ipython3",
   "version": "3.8.5"
  }
 },
 "nbformat": 4,
 "nbformat_minor": 4
}
